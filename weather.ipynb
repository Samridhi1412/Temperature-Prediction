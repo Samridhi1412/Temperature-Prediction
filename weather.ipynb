{
 "cells": [
  {
   "cell_type": "code",
   "execution_count": null,
   "metadata": {},
   "outputs": [],
   "source": [
    "import pandas as pd\n",
    "import numpy as np\n",
    "from sklearn.model_selection import train_test_split\n",
    "from sklearn.preprocessing import StandardScaler"
   ]
  },
  {
   "cell_type": "code",
   "execution_count": null,
   "metadata": {},
   "outputs": [],
   "source": [
    "df = pd.read_excel('Weather data.xlsx')\n",
    "#print(df.head())\n",
    "num_rows, num_cols = df.shape\n",
    "print(\"Number of rows:\", num_rows)\n",
    "print(\"Number of columns:\", num_cols)"
   ]
  },
  {
   "cell_type": "code",
   "execution_count": null,
   "metadata": {},
   "outputs": [],
   "source": [
    "y=df['temperature_celsius']\n",
    "print(y)"
   ]
  },
  {
   "cell_type": "code",
   "execution_count": null,
   "metadata": {},
   "outputs": [],
   "source": [
    "selected_columns = ['wind_kph', 'pressure_mb', 'wind_degree' , 'precip_mm', 'humidity','cloud']\n",
    "x = df[selected_columns]\n",
    "print(x)\n"
   ]
  },
  {
   "cell_type": "code",
   "execution_count": null,
   "metadata": {},
   "outputs": [],
   "source": [
    "x_train, x_test, y_train, y_test = train_test_split(x, y, test_size=0.2, random_state=42)"
   ]
  },
  {
   "cell_type": "code",
   "execution_count": null,
   "metadata": {},
   "outputs": [],
   "source": [
    "scaler = StandardScaler()\n",
    "x_train_scaled = scaler.fit_transform(x_train)\n",
    "x_test_scaled = scaler.transform(x_test)"
   ]
  },
  {
   "cell_type": "code",
   "execution_count": null,
   "metadata": {},
   "outputs": [],
   "source": [
    "\n",
    "y_train_numpy = y_train.values\n",
    "y_test_numpy = y_test.values\n",
    "num_rows,num_cols = x.shape\n",
    "print(num_rows)\n",
    "print(num_cols)"
   ]
  },
  {
   "cell_type": "code",
   "execution_count": null,
   "metadata": {},
   "outputs": [],
   "source": [
    "def predict(x):\n",
    "    global w,b\n",
    "    return np.dot(x,w)+b\n",
    "def cost_function(y_target, y_pred):\n",
    "    global w, b\n",
    "    m = y_target.shape[0]\n",
    "    diff = (y_pred - y_target) ** 2\n",
    "    cost = np.sum(diff)\n",
    "    total_cost = (1 / (2 * m)) * cost\n",
    "    return total_cost\n",
    "\n",
    "def grad_decsend(x, y_target, y_pred, learn_rate):\n",
    "    global w, b\n",
    "    error = y_pred - y_target\n",
    "    m = y_pred.shape[0]\n",
    "    grad_w = (1 / m) * (np.dot(x.T, error))\n",
    "    grad_b = (1 / m) * np.sum(error)\n",
    "    w -= learn_rate * grad_w\n",
    "    b -= learn_rate * grad_b\n",
    "\n",
    "learn_rate=0.01\n",
    "epochs=1000\n",
    "w = np.zeros(num_cols)\n",
    "b = 0\n",
    "for epoch in range(epochs):\n",
    "    y_pred=predict(x_train_scaled)\n",
    "    loss=cost_function(y_train,y_pred)\n",
    "    grad_decsend(x_train_scaled,y_train,y_pred,learn_rate)\n",
    "    if epoch%100==0:\n",
    "        print(f'Epoch {epoch}, Loss {loss}')"
   ]
  },
  {
   "cell_type": "code",
   "execution_count": null,
   "metadata": {},
   "outputs": [],
   "source": [
    "print(w)\n",
    "print(b)"
   ]
  },
  {
   "cell_type": "code",
   "execution_count": 37,
   "metadata": {},
   "outputs": [
    {
     "name": "stdout",
     "output_type": "stream",
     "text": [
      "[-0.59420717  2.15739696  0.13165903 -0.65132908 -0.46463796 -0.57888178]\n"
     ]
    },
    {
     "data": {
      "text/plain": [
       "19.594088572187577"
      ]
     },
     "execution_count": 37,
     "metadata": {},
     "output_type": "execute_result"
    }
   ],
   "source": [
    "my_array = np.array([20.5, 1008 ,281, 0, 67, 26])\n",
    "ridhi = my_array.reshape(-1, 1)\n",
    "ridhisha=scaler.fit_transform(ridhi)\n",
    "ridhisha = ridhisha.flatten()\n",
    "print(ridhisha)\n",
    "predict(ridhisha)\n",
    "\n"
   ]
  }
 ],
 "metadata": {
  "kernelspec": {
   "display_name": "Python 3",
   "language": "python",
   "name": "python3"
  },
  "language_info": {
   "codemirror_mode": {
    "name": "ipython",
    "version": 3
   },
   "file_extension": ".py",
   "mimetype": "text/x-python",
   "name": "python",
   "nbconvert_exporter": "python",
   "pygments_lexer": "ipython3",
   "version": "3.12.2"
  }
 },
 "nbformat": 4,
 "nbformat_minor": 2
}
